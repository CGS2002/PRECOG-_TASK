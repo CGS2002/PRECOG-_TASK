{
  "nbformat": 4,
  "nbformat_minor": 0,
  "metadata": {
    "colab": {
      "provenance": [],
      "authorship_tag": "ABX9TyMUs4zPzYo/aXLC4GGabeVc",
      "include_colab_link": true
    },
    "kernelspec": {
      "name": "python3",
      "display_name": "Python 3"
    },
    "language_info": {
      "name": "python"
    }
  },
  "cells": [
    {
      "cell_type": "markdown",
      "metadata": {
        "id": "view-in-github",
        "colab_type": "text"
      },
      "source": [
        "<a href=\"https://colab.research.google.com/github/CGS2002/PRECOG-_TASK/blob/main/Bonus_Task_3.ipynb\" target=\"_parent\"><img src=\"https://colab.research.google.com/assets/colab-badge.svg\" alt=\"Open In Colab\"/></a>"
      ]
    },
    {
      "cell_type": "code",
      "execution_count": 1,
      "metadata": {
        "colab": {
          "base_uri": "https://localhost:8080/"
        },
        "id": "8Ieifb0LHIsy",
        "outputId": "e5d48948-6639-41e7-b8d5-38c29630ff96"
      },
      "outputs": [
        {
          "output_type": "stream",
          "name": "stdout",
          "text": [
            "Mounted at /content/drive\n"
          ]
        }
      ],
      "source": [
        "import pandas as pd\n",
        "import numpy as np\n",
        "import networkx as nx\n",
        "import matplotlib.pyplot as plt\n",
        "import pickle\n",
        "import numpy as np\n",
        "from sklearn.cluster import KMeans\n",
        "from networkx.algorithms import community\n",
        "from google.colab import drive\n",
        "drive.mount('/content/drive')\n",
        "glink='/content/drive/MyDrive/IIIT Graph/' # Change the link to the folder ontaing files"
      ]
    },
    {
      "cell_type": "code",
      "source": [
        "dfe=pd.read_csv(f'{glink}Cit-HepPh.txt', sep='\\t', header=None, names=['source', 'target'],skiprows=4)\n",
        "dfn=pd.read_csv(f'{glink}cit-HepPh-dates.txt', sep='\\t', header=None, names=['Node', 'Time'],skiprows=1)\n",
        "dfn['Time']=pd.to_datetime(dfn['Time'])"
      ],
      "metadata": {
        "id": "9dMdkFpLHJMX"
      },
      "execution_count": 2,
      "outputs": []
    },
    {
      "cell_type": "code",
      "source": [
        "df = pd.merge(dfe, dfn, left_on='source', right_on='Node', how='inner')\n",
        "df = pd.merge(df, dfn, left_on='target', right_on='Node', how='inner', suffixes=('_source', '_target'))\n",
        "df_sorted=df.sort_values('Time_target')\n",
        "df_sorted['Time_Edge']=df_sorted[['Time_target','Time_source']].max(axis=1)\n",
        "df_sorted['Year']=df_sorted['Time_Edge'].dt.to_period('Y')\n"
      ],
      "metadata": {
        "id": "OWse6jNJHREG"
      },
      "execution_count": 3,
      "outputs": []
    },
    {
      "cell_type": "code",
      "source": [
        "testing = df_sorted[df_sorted['Time_Edge']<='1993-06-24'].copy()\n",
        "# testing"
      ],
      "metadata": {
        "id": "w-zA138SHRGw"
      },
      "execution_count": 149,
      "outputs": []
    },
    {
      "cell_type": "code",
      "source": [
        "GT=nx.DiGraph()\n",
        "GT.add_nodes_from(list(set(testing[['source', 'target']].values.flatten())))\n",
        "m=[tuple(x[['source', 'target']]) for x in testing.to_records(index=False)]\n",
        "GT.add_edges_from(m)"
      ],
      "metadata": {
        "id": "7OLYiAwiHRJb"
      },
      "execution_count": 74,
      "outputs": []
    },
    {
      "cell_type": "code",
      "source": [
        "from sklearn.model_selection import train_test_split\n",
        "from sklearn.linear_model import LogisticRegression\n",
        "from sklearn.metrics import accuracy_score, classification_report\n",
        "from sklearn.preprocessing import LabelEncoder"
      ],
      "metadata": {
        "id": "jlq-RL5ZHRMb"
      },
      "execution_count": 75,
      "outputs": []
    },
    {
      "cell_type": "code",
      "source": [
        "G=GT.copy()\n"
      ],
      "metadata": {
        "id": "OBFlFscyHROb"
      },
      "execution_count": 76,
      "outputs": []
    },
    {
      "cell_type": "code",
      "source": [
        "label_encoder = LabelEncoder()\n",
        "label_encoder.fit(list(G.nodes()))\n",
        "\n",
        "PG=nx.pagerank(G)\n",
        "def common_in_neighbors(G, node1, node2):\n",
        "    in_neighbors_node1 = set(G.predecessors(node1))\n",
        "    in_neighbors_node2 = set(G.predecessors(node2))\n",
        "    return len(in_neighbors_node1.intersection(in_neighbors_node2))\n",
        "\n",
        "def common_out_neighbors(G, node1, node2):\n",
        "    out_neighbors_node1 = set(G.successors(node1))\n",
        "    out_neighbors_node2 = set(G.successors(node2))\n",
        "    return len(out_neighbors_node1.intersection(out_neighbors_node2))\n",
        "\n",
        "def jaccard_coefficient_in_neighbors(G, node1, node2):\n",
        "    in_neighbors_node1 = set(G.predecessors(node1))\n",
        "    in_neighbors_node2 = set(G.predecessors(node2))\n",
        "    if len(in_neighbors_node1.union(in_neighbors_node2)) == 0:\n",
        "        return 0.0\n",
        "    return len(in_neighbors_node1.intersection(in_neighbors_node2)) / len(in_neighbors_node1.union(in_neighbors_node2))\n",
        "\n",
        "def jaccard_coefficient_out_neighbors(G, node1, node2):\n",
        "    out_neighbors_node1 = set(G.successors(node1))\n",
        "    out_neighbors_node2 = set(G.successors(node2))\n",
        "    if len(out_neighbors_node1.union(out_neighbors_node2)) == 0:\n",
        "        return 0.0\n",
        "    return len(out_neighbors_node1.intersection(out_neighbors_node2)) / len(out_neighbors_node1.union(out_neighbors_node2))\n",
        "def betweenness_centrality(G, node):\n",
        "    return nx.betweenness_centrality(G)[node]\n",
        "\n",
        "def closeness_centrality(G, node):\n",
        "    return nx.closeness_centrality(G)[node]\n",
        "\n",
        "# Extract features for each edge\n",
        "features = []\n",
        "labels = []\n",
        "\n",
        "for edge in G.edges():\n",
        "    source, target = edge\n",
        "    features.append([\n",
        "         label_encoder.transform([source])[0],\n",
        "        label_encoder.transform([target])[0],\n",
        "        G.in_degree(source),\n",
        "        G.out_degree(source),\n",
        "        G.in_degree(target),\n",
        "        G.out_degree(target),\n",
        "        common_in_neighbors(G, source, target),\n",
        "        common_out_neighbors(G, source, target),\n",
        "        jaccard_coefficient_in_neighbors(G, source, target),\n",
        "        jaccard_coefficient_out_neighbors(G, source, target),\n",
        "          nx.clustering(G,source),\n",
        "        nx.clustering(G,target),\n",
        "        PG[source],\n",
        "        PG[target]\n",
        "\n",
        "    ])\n",
        "    labels.append(1)\n",
        "for edge in nx.non_edges(G):\n",
        "    source, target = edge\n",
        "    features.append([\n",
        "         label_encoder.transform([source])[0],\n",
        "        label_encoder.transform([target])[0],\n",
        "        G.in_degree(source),\n",
        "        G.out_degree(source),\n",
        "        G.in_degree(target),\n",
        "        G.out_degree(target),\n",
        "        common_in_neighbors(G, source, target),\n",
        "        common_out_neighbors(G, source, target),\n",
        "        jaccard_coefficient_in_neighbors(G, source, target),\n",
        "        jaccard_coefficient_out_neighbors(G, source, target),\n",
        "        nx.clustering(G,source),\n",
        "        nx.clustering(G,target),\n",
        "        PG[source],\n",
        "        PG[target]\n",
        "\n",
        "    ])\n",
        "    labels.append(0)\n",
        "\n",
        "features = np.array(features)\n",
        "labels = np.array(labels)\n",
        "X_train, X_test, y_train, y_test = train_test_split(features, labels, test_size=0.2, random_state=42)\n",
        "\n",
        "model = LogisticRegression()\n",
        "model.fit(X_train, y_train)\n",
        "\n",
        "y_pred = model.predict(X_test)\n",
        "accuracy = accuracy_score(y_test, y_pred)\n",
        "classification_report_output = classification_report(y_test, y_pred)\n",
        "\n",
        "print(f\"Accuracy: {accuracy}\")\n",
        "print(\"Classification Report:\")\n",
        "print(classification_report_output)\n"
      ],
      "metadata": {
        "colab": {
          "base_uri": "https://localhost:8080/"
        },
        "id": "mq4yGbxEHJSt",
        "outputId": "dfbaccdc-d126-48c3-a165-a57628ab58f3"
      },
      "execution_count": 103,
      "outputs": [
        {
          "output_type": "stream",
          "name": "stderr",
          "text": [
            "/usr/local/lib/python3.10/dist-packages/sklearn/linear_model/_logistic.py:458: ConvergenceWarning: lbfgs failed to converge (status=1):\n",
            "STOP: TOTAL NO. of ITERATIONS REACHED LIMIT.\n",
            "\n",
            "Increase the number of iterations (max_iter) or scale the data as shown in:\n",
            "    https://scikit-learn.org/stable/modules/preprocessing.html\n",
            "Please also refer to the documentation for alternative solver options:\n",
            "    https://scikit-learn.org/stable/modules/linear_model.html#logistic-regression\n",
            "  n_iter_i = _check_optimize_result(\n"
          ]
        },
        {
          "output_type": "stream",
          "name": "stdout",
          "text": [
            "Accuracy: 0.9978461538461538\n",
            "Classification Report:\n",
            "              precision    recall  f1-score   support\n",
            "\n",
            "           0       1.00      1.00      1.00     77835\n",
            "           1       0.20      0.01      0.01       165\n",
            "\n",
            "    accuracy                           1.00     78000\n",
            "   macro avg       0.60      0.50      0.51     78000\n",
            "weighted avg       1.00      1.00      1.00     78000\n",
            "\n"
          ]
        }
      ]
    },
    {
      "cell_type": "code",
      "source": [
        "from sklearn.ensemble import RandomForestClassifier\n",
        "import xgboost as xgb\n",
        "\n",
        "\n",
        "clf = RandomForestClassifier(n_estimators=100, random_state=42)\n",
        "clf.fit(X_train, y_train)\n",
        "\n",
        "y_pred = clf.predict(X_test)\n",
        "\n",
        "accuracy = accuracy_score(y_test, y_pred)\n",
        "report = classification_report(y_test, y_pred)\n",
        "\n",
        "print(f\"Accuracy: {accuracy}\")\n",
        "print(\"Classification Report:\")\n",
        "print(report)"
      ],
      "metadata": {
        "colab": {
          "base_uri": "https://localhost:8080/"
        },
        "id": "mcT4L0nfIdJ9",
        "outputId": "bdc89b37-6d51-4f68-83de-e5b1fa2de805"
      },
      "execution_count": 145,
      "outputs": [
        {
          "output_type": "stream",
          "name": "stdout",
          "text": [
            "Accuracy: 0.9977948717948718\n",
            "Classification Report:\n",
            "              precision    recall  f1-score   support\n",
            "\n",
            "           0       1.00      1.00      1.00     77835\n",
            "           1       0.43      0.13      0.20       165\n",
            "\n",
            "    accuracy                           1.00     78000\n",
            "   macro avg       0.71      0.56      0.60     78000\n",
            "weighted avg       1.00      1.00      1.00     78000\n",
            "\n"
          ]
        }
      ]
    },
    {
      "cell_type": "code",
      "source": [
        "import xgboost as xgb\n",
        "\n",
        "model_xgb = xgb.XGBClassifier()\n",
        "model_xgb.fit(X_train, y_train)\n",
        "y_pred = model_xgb.predict(X_test)\n",
        "\n",
        "accuracy = accuracy_score(y_test, y_pred)\n",
        "report = classification_report(y_test, y_pred)\n",
        "\n",
        "print(f\"Accuracy: {accuracy}\")\n",
        "print(\"Classification Report:\")\n",
        "print(report)"
      ],
      "metadata": {
        "colab": {
          "base_uri": "https://localhost:8080/"
        },
        "id": "V7iYmyolX_p6",
        "outputId": "4e8806d3-bc6f-4745-be23-f76e0b424699"
      },
      "execution_count": 146,
      "outputs": [
        {
          "output_type": "stream",
          "name": "stdout",
          "text": [
            "Accuracy: 0.998\n",
            "Classification Report:\n",
            "              precision    recall  f1-score   support\n",
            "\n",
            "           0       1.00      1.00      1.00     77835\n",
            "           1       0.67      0.11      0.19       165\n",
            "\n",
            "    accuracy                           1.00     78000\n",
            "   macro avg       0.83      0.55      0.59     78000\n",
            "weighted avg       1.00      1.00      1.00     78000\n",
            "\n"
          ]
        }
      ]
    },
    {
      "cell_type": "code",
      "source": [
        "edge_to_remove = list(G.edges())[752]\n",
        "source_node, target_node = edge_to_remove\n",
        "removed_edge_features = [\n",
        "         label_encoder.transform([source])[0],\n",
        "        label_encoder.transform([target])[0],\n",
        "        G.in_degree(source_node),\n",
        "        G.out_degree(source_node),\n",
        "        G.in_degree(target_node),\n",
        "        G.out_degree(target_node),\n",
        "        common_in_neighbors(G, source_node, target_node),\n",
        "        common_out_neighbors(G, source_node, target_node),\n",
        "        jaccard_coefficient_in_neighbors(G, source_node, target_node),\n",
        "        jaccard_coefficient_out_neighbors(G, source_node, target_node),\n",
        "         nx.clustering(G,source_node),\n",
        "        nx.clustering(G,target_node),\n",
        "        PG[source],\n",
        "        PG[target]\n",
        "    ]\n",
        "removed_edge_features = np.array(removed_edge_features).reshape(1, -1)\n",
        "\n",
        "prediction = model.predict(removed_edge_features)\n",
        "\n",
        "print(f\"Actual Edge Exists: {G.has_edge(source_node, target_node)}\")\n",
        "print(f\"Predicted Edge Exists: {prediction[0]}\")\n"
      ],
      "metadata": {
        "colab": {
          "base_uri": "https://localhost:8080/"
        },
        "id": "G5to5EmLHlKL",
        "outputId": "49d87f46-45e4-4617-8d08-294e94d2e0dc"
      },
      "execution_count": 137,
      "outputs": [
        {
          "output_type": "stream",
          "name": "stdout",
          "text": [
            "Actual Edge Exists: True\n",
            "Predicted Edge Exists: 1\n"
          ]
        }
      ]
    },
    {
      "cell_type": "code",
      "source": [
        "prediction = clf.predict(removed_edge_features)\n",
        "prediction"
      ],
      "metadata": {
        "colab": {
          "base_uri": "https://localhost:8080/"
        },
        "id": "mRYdxIH6JTDW",
        "outputId": "26a3f080-f7e2-472d-c8d8-b1ccab20a2bc"
      },
      "execution_count": 147,
      "outputs": [
        {
          "output_type": "execute_result",
          "data": {
            "text/plain": [
              "array([0])"
            ]
          },
          "metadata": {},
          "execution_count": 147
        }
      ]
    },
    {
      "cell_type": "code",
      "source": [
        "prediction = model_xgb.predict(removed_edge_features)\n",
        "prediction"
      ],
      "metadata": {
        "colab": {
          "base_uri": "https://localhost:8080/"
        },
        "id": "eI5yn321Jj8R",
        "outputId": "790cdd29-cc11-4201-817e-6a14f5b1cfa2"
      },
      "execution_count": 148,
      "outputs": [
        {
          "output_type": "execute_result",
          "data": {
            "text/plain": [
              "array([0])"
            ]
          },
          "metadata": {},
          "execution_count": 148
        }
      ]
    },
    {
      "cell_type": "markdown",
      "source": [
        "Sources\n",
        "\n",
        "https://www.irjet.net/archives/V7/i11/IRJET-V7I1120.pdf\n"
      ],
      "metadata": {
        "id": "8kezYps0RXIC"
      }
    }
  ]
}